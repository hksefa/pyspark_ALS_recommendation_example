{
 "cells": [
  {
   "cell_type": "code",
   "execution_count": null,
   "metadata": {
    "application/vnd.databricks.v1+cell": {
     "inputWidgets": {},
     "nuid": "f4d87eda-74dd-4cfb-9200-50d4f4c4f4df",
     "showTitle": false,
     "title": ""
    }
   },
   "outputs": [],
   "source": [
    "from pyspark.sql import SparkSession"
   ]
  },
  {
   "cell_type": "code",
   "execution_count": null,
   "metadata": {
    "application/vnd.databricks.v1+cell": {
     "inputWidgets": {},
     "nuid": "5ee71678-080f-4496-bc14-bef3c70a1441",
     "showTitle": false,
     "title": ""
    }
   },
   "outputs": [],
   "source": [
    "spark = SparkSession.builder.appName('Recommendation_system') \\\n",
    "        .getOrCreate()"
   ]
  },
  {
   "cell_type": "code",
   "execution_count": null,
   "metadata": {
    "application/vnd.databricks.v1+cell": {
     "inputWidgets": {},
     "nuid": "42682846-906c-4693-aae7-e946ba35dd8e",
     "showTitle": false,
     "title": ""
    }
   },
   "outputs": [],
   "source": [
    "df = spark.read.json(\"/FileStore/tables/Musical_Instruments_5.json\")"
   ]
  },
  {
   "cell_type": "code",
   "execution_count": null,
   "metadata": {
    "application/vnd.databricks.v1+cell": {
     "inputWidgets": {},
     "nuid": "e79ef972-fc89-4e38-a2ec-18e477dd66c8",
     "showTitle": false,
     "title": ""
    }
   },
   "outputs": [],
   "source": [
    "nd=df.select(df['asin'],df['overall'],df['reviewerID']) #asin : productid"
   ]
  },
  {
   "cell_type": "code",
   "execution_count": null,
   "metadata": {
    "application/vnd.databricks.v1+cell": {
     "inputWidgets": {},
     "nuid": "3d8de77e-2098-4240-9551-eef5434d3fb9",
     "showTitle": false,
     "title": ""
    }
   },
   "outputs": [],
   "source": [
    "from pyspark.ml.evaluation import RegressionEvaluator\n",
    "from pyspark.ml.recommendation import ALS"
   ]
  },
  {
   "cell_type": "code",
   "execution_count": null,
   "metadata": {
    "application/vnd.databricks.v1+cell": {
     "inputWidgets": {},
     "nuid": "d18d7e78-5253-4275-a7f3-b3073ffc967e",
     "showTitle": false,
     "title": ""
    }
   },
   "outputs": [],
   "source": [
    "#ALS only accepts integer value as parameters.  Hence we need to convert asin and reviewerID columns into index form."
   ]
  },
  {
   "cell_type": "code",
   "execution_count": null,
   "metadata": {
    "application/vnd.databricks.v1+cell": {
     "inputWidgets": {},
     "nuid": "08b2c4bd-8bd5-4c11-9174-53fec7c23ad9",
     "showTitle": false,
     "title": ""
    }
   },
   "outputs": [],
   "source": [
    "from pyspark.ml.feature import StringIndexer\n",
    "from pyspark.ml import Pipeline\n",
    "from pyspark.sql.functions import col"
   ]
  },
  {
   "cell_type": "code",
   "execution_count": null,
   "metadata": {
    "application/vnd.databricks.v1+cell": {
     "inputWidgets": {},
     "nuid": "ea18dbd3-d98c-4484-b94f-661feab6941c",
     "showTitle": false,
     "title": ""
    }
   },
   "outputs": [],
   "source": [
    "indexer = [StringIndexer(inputCol=column, outputCol=column+\"_index\") for column in list( set(nd.columns) - set(['overall']) ) ]"
   ]
  },
  {
   "cell_type": "code",
   "execution_count": null,
   "metadata": {
    "application/vnd.databricks.v1+cell": {
     "inputWidgets": {},
     "nuid": "cfcd402e-0fb2-4a58-a908-8efda00b9f0b",
     "showTitle": false,
     "title": ""
    }
   },
   "outputs": [],
   "source": [
    "pipeline = Pipeline(stages=indexer)\n",
    "transformed = pipeline.fit(nd).transform(nd)"
   ]
  },
  {
   "cell_type": "code",
   "execution_count": null,
   "metadata": {
    "application/vnd.databricks.v1+cell": {
     "inputWidgets": {},
     "nuid": "10ffc993-e108-417f-8c09-0c7bcde78e86",
     "showTitle": false,
     "title": ""
    }
   },
   "outputs": [],
   "source": [
    "(train,test) = transformed.randomSplit([0.8, 0.2])"
   ]
  },
  {
   "cell_type": "code",
   "execution_count": null,
   "metadata": {
    "application/vnd.databricks.v1+cell": {
     "inputWidgets": {},
     "nuid": "f0e8ad3c-f9b3-494c-88ca-d2da8d054606",
     "showTitle": false,
     "title": ""
    }
   },
   "outputs": [],
   "source": [
    "als=ALS(maxIter=5,regParam=0.09,rank=25,userCol=\"reviewerID_index\", \\\n",
    "        itemCol=\"asin_index\",ratingCol=\"overall\",coldStartStrategy=\"drop\",nonnegative=True)\n",
    "\n",
    "model=als.fit(train)"
   ]
  },
  {
   "cell_type": "code",
   "execution_count": null,
   "metadata": {
    "application/vnd.databricks.v1+cell": {
     "inputWidgets": {},
     "nuid": "25736255-1e8b-4a86-aa49-9d5cdb751a2b",
     "showTitle": false,
     "title": ""
    }
   },
   "outputs": [],
   "source": [
    "predictions = model.transform(test)"
   ]
  },
  {
   "cell_type": "code",
   "execution_count": null,
   "metadata": {
    "application/vnd.databricks.v1+cell": {
     "inputWidgets": {},
     "nuid": "e9a04585-34d7-4863-b4e3-ec12e13327c2",
     "showTitle": false,
     "title": ""
    }
   },
   "outputs": [],
   "source": [
    "evaluator=RegressionEvaluator(metricName=\"rmse\",labelCol=\"overall\",predictionCol=\"prediction\")"
   ]
  },
  {
   "cell_type": "code",
   "execution_count": null,
   "metadata": {
    "application/vnd.databricks.v1+cell": {
     "inputWidgets": {},
     "nuid": "7df63a23-2c1f-430a-b7c8-b611365edecc",
     "showTitle": false,
     "title": ""
    }
   },
   "outputs": [],
   "source": [
    "rmse=evaluator.evaluate(predictions)\n",
    "#print(\"RMSE=\"+str(rmse))"
   ]
  },
  {
   "cell_type": "code",
   "execution_count": null,
   "metadata": {
    "application/vnd.databricks.v1+cell": {
     "inputWidgets": {},
     "nuid": "d0c6ab63-c92d-497d-991d-68808bba16ee",
     "showTitle": false,
     "title": ""
    }
   },
   "outputs": [],
   "source": [
    "recs_to_each_user = model.recommendForAllUsers(5)"
   ]
  },
  {
   "cell_type": "code",
   "execution_count": null,
   "metadata": {
    "application/vnd.databricks.v1+cell": {
     "inputWidgets": {},
     "nuid": "2e63c08d-762f-4b7d-9c17-aa189eecef9d",
     "showTitle": false,
     "title": ""
    }
   },
   "outputs": [],
   "source": [
    "#recs_to_each_user.printSchema()"
   ]
  },
  {
   "cell_type": "code",
   "execution_count": null,
   "metadata": {
    "application/vnd.databricks.v1+cell": {
     "inputWidgets": {},
     "nuid": "6e46198a-2020-4c6e-b23f-134a07e2aed9",
     "showTitle": false,
     "title": ""
    }
   },
   "outputs": [],
   "source": [
    "#Converting back to string form from StringIndexer"
   ]
  },
  {
   "cell_type": "code",
   "execution_count": null,
   "metadata": {
    "application/vnd.databricks.v1+cell": {
     "inputWidgets": {},
     "nuid": "dc16279c-2c58-479b-9668-eeb266063c12",
     "showTitle": false,
     "title": ""
    }
   },
   "outputs": [],
   "source": [
    "import pandas as pd"
   ]
  },
  {
   "cell_type": "code",
   "execution_count": null,
   "metadata": {
    "application/vnd.databricks.v1+cell": {
     "inputWidgets": {},
     "nuid": "b8d10ff9-ea02-43ca-a6c0-8515cb0c75dd",
     "showTitle": false,
     "title": ""
    }
   },
   "outputs": [],
   "source": [
    "rec_df = recs_to_each_user.toPandas()"
   ]
  },
  {
   "cell_type": "code",
   "execution_count": null,
   "metadata": {
    "application/vnd.databricks.v1+cell": {
     "inputWidgets": {},
     "nuid": "90575eff-f5e7-4ac3-90d1-146cc7e79ef0",
     "showTitle": false,
     "title": ""
    }
   },
   "outputs": [],
   "source": [
    "#type(rec_df)\n",
    "#type(rec_df.recommendations[0]) \n",
    "#type(rec_df.recommendations[0][1])"
   ]
  },
  {
   "cell_type": "code",
   "execution_count": null,
   "metadata": {
    "application/vnd.databricks.v1+cell": {
     "inputWidgets": {},
     "nuid": "7b5ac60e-c237-483a-9d87-ffd7cff0c218",
     "showTitle": false,
     "title": ""
    }
   },
   "outputs": [],
   "source": [
    "nrecs=rec_df.recommendations.apply(pd.Series) \\\n",
    "             .merge(rec_df, right_index = True, left_index = True) \\\n",
    "             .drop([\"recommendations\"], axis = 1) \\\n",
    "             .melt(id_vars = ['reviewerID_index'], value_name = \"recommendation\") \\\n",
    "             .drop(\"variable\", axis = 1) \\\n",
    "             .dropna() "
   ]
  },
  {
   "cell_type": "code",
   "execution_count": null,
   "metadata": {
    "application/vnd.databricks.v1+cell": {
     "inputWidgets": {},
     "nuid": "b6bf2a80-d651-430c-91c7-a01fa0bc7167",
     "showTitle": false,
     "title": ""
    }
   },
   "outputs": [],
   "source": [
    "nrecs=nrecs.sort_values('reviewerID_index')\n",
    "\n",
    "nrecs=pd.concat(  [nrecs['recommendation'].apply(pd.Series) ,  nrecs['reviewerID_index']]  ,  axis = 1   )"
   ]
  },
  {
   "cell_type": "code",
   "execution_count": null,
   "metadata": {
    "application/vnd.databricks.v1+cell": {
     "inputWidgets": {},
     "nuid": "4b859a14-48e0-4bd9-87d6-dde934087f11",
     "showTitle": false,
     "title": ""
    }
   },
   "outputs": [],
   "source": [
    "#nrecs.head(3)"
   ]
  },
  {
   "cell_type": "code",
   "execution_count": null,
   "metadata": {
    "application/vnd.databricks.v1+cell": {
     "inputWidgets": {},
     "nuid": "61c2f65e-f787-48d4-8d46-47993d1e0c61",
     "showTitle": false,
     "title": ""
    }
   },
   "outputs": [],
   "source": [
    "nrecs.columns = [ 'ProductID_index', 'Rating', 'UserID_index' ]"
   ]
  },
  {
   "cell_type": "code",
   "execution_count": null,
   "metadata": {
    "application/vnd.databricks.v1+cell": {
     "inputWidgets": {},
     "nuid": "cd9d01ef-0788-4d2e-8e83-5b99c4a76a01",
     "showTitle": false,
     "title": ""
    }
   },
   "outputs": [],
   "source": [
    "#nrecs.head(3)"
   ]
  },
  {
   "cell_type": "code",
   "execution_count": null,
   "metadata": {
    "application/vnd.databricks.v1+cell": {
     "inputWidgets": {},
     "nuid": "75b49961-a349-41d5-af2d-6661edd9e492",
     "showTitle": false,
     "title": ""
    }
   },
   "outputs": [],
   "source": [
    "md=transformed.select(transformed['reviewerID'],transformed['reviewerID_index'],transformed['asin'],transformed['asin_index'])"
   ]
  },
  {
   "cell_type": "code",
   "execution_count": null,
   "metadata": {
    "application/vnd.databricks.v1+cell": {
     "inputWidgets": {},
     "nuid": "074e6520-3c99-4889-842c-300ca45404d4",
     "showTitle": false,
     "title": ""
    }
   },
   "outputs": [],
   "source": [
    "#md.head(5) \n",
    "md = md.toPandas()\n",
    "#type(md)"
   ]
  },
  {
   "cell_type": "code",
   "execution_count": null,
   "metadata": {
    "application/vnd.databricks.v1+cell": {
     "inputWidgets": {},
     "nuid": "f5161725-e63f-48f5-8851-c78bb3b05566",
     "showTitle": false,
     "title": ""
    }
   },
   "outputs": [],
   "source": [
    "dict1 = dict(  zip( md['reviewerID_index'] , md['reviewerID'] )  )\n",
    "dict2 = dict(  zip( md['asin_index'] , md['asin'] )   )"
   ]
  },
  {
   "cell_type": "code",
   "execution_count": null,
   "metadata": {
    "application/vnd.databricks.v1+cell": {
     "inputWidgets": {},
     "nuid": "4835d06c-6ec3-408d-9e92-727f5738df51",
     "showTitle": false,
     "title": ""
    }
   },
   "outputs": [],
   "source": [
    "nrecs['reviewerID']=nrecs['UserID_index'].map(dict1)\n",
    "nrecs['asin']=nrecs['ProductID_index'].map(dict2)"
   ]
  },
  {
   "cell_type": "code",
   "execution_count": null,
   "metadata": {
    "application/vnd.databricks.v1+cell": {
     "inputWidgets": {},
     "nuid": "9fa69c08-dbe3-4afb-bc35-ef1284970790",
     "showTitle": false,
     "title": ""
    }
   },
   "outputs": [],
   "source": [
    "#nrecs.head(5)"
   ]
  },
  {
   "cell_type": "code",
   "execution_count": null,
   "metadata": {
    "application/vnd.databricks.v1+cell": {
     "inputWidgets": {},
     "nuid": "7511b214-46fc-427b-946f-b9e6c9775d05",
     "showTitle": false,
     "title": ""
    }
   },
   "outputs": [],
   "source": [
    "nrecs=nrecs.sort_values('reviewerID')\n",
    "nrecs.reset_index(drop=True, inplace=True)"
   ]
  },
  {
   "cell_type": "code",
   "execution_count": null,
   "metadata": {
    "application/vnd.databricks.v1+cell": {
     "inputWidgets": {},
     "nuid": "453ef752-a507-4608-89e3-bbb1afbe9c16",
     "showTitle": false,
     "title": ""
    }
   },
   "outputs": [],
   "source": [
    "new=nrecs[['reviewerID','asin','Rating']]"
   ]
  },
  {
   "cell_type": "code",
   "execution_count": null,
   "metadata": {
    "application/vnd.databricks.v1+cell": {
     "inputWidgets": {},
     "nuid": "e5998a2b-1a8b-488c-bdd0-2bca2dc38051",
     "showTitle": false,
     "title": ""
    }
   },
   "outputs": [],
   "source": [
    "new['recommendations'] = list(zip(new.asin, new.Rating))"
   ]
  },
  {
   "cell_type": "code",
   "execution_count": null,
   "metadata": {
    "application/vnd.databricks.v1+cell": {
     "inputWidgets": {},
     "nuid": "03a48075-109a-4510-a96d-9019c4808311",
     "showTitle": false,
     "title": ""
    }
   },
   "outputs": [],
   "source": [
    "#new.head(5)"
   ]
  },
  {
   "cell_type": "code",
   "execution_count": null,
   "metadata": {
    "application/vnd.databricks.v1+cell": {
     "inputWidgets": {},
     "nuid": "174ca275-f02e-4b20-9a3a-ed0a827cf0f2",
     "showTitle": false,
     "title": ""
    }
   },
   "outputs": [],
   "source": [
    "res = new[['reviewerID','recommendations']]  \n",
    "\n",
    "res_new = res['recommendations'].groupby([res.reviewerID]).apply(list).reset_index()\n",
    "\n",
    "#res_new.head(10)"
   ]
  }
 ],
 "metadata": {
  "application/vnd.databricks.v1+notebook": {
   "dashboards": [],
   "language": "python",
   "notebookName": "recommendation_example_pyspark",
   "notebookOrigID": 338139846087744,
   "widgets": {}
  },
  "kernelspec": {
   "display_name": "Python 3",
   "language": "python",
   "name": "python3"
  },
  "language_info": {
   "codemirror_mode": {
    "name": "ipython",
    "version": 3
   },
   "file_extension": ".py",
   "mimetype": "text/x-python",
   "name": "python",
   "nbconvert_exporter": "python",
   "pygments_lexer": "ipython3",
   "version": "3.6.3"
  }
 },
 "nbformat": 4,
 "nbformat_minor": 1
}
